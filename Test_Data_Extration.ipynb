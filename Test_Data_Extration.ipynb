{
 "cells": [
  {
   "cell_type": "code",
   "execution_count": 2,
   "id": "0ec6378f-613c-4f45-bb2a-300054ed8776",
   "metadata": {},
   "outputs": [],
   "source": [
    "import os\n",
    "import openai\n",
    "import pandas as pd\n",
    "import pdfplumber\n",
    "import json\n",
    "import numpy as np\n",
    "\n",
    "import config"
   ]
  },
  {
   "cell_type": "code",
   "execution_count": 3,
   "id": "fb892c5d-5f42-4c3f-9117-b3c0f438a9f3",
   "metadata": {},
   "outputs": [],
   "source": [
    "from openpyxl import load_workbook\n",
    "\n",
    "file_path = './truth_excel/test_all_studies_final.xlsx'\n",
    "workbook = load_workbook(file_path)\n",
    "sheet = workbook.active\n",
    "\n",
    "# Convert to DataFrame\n",
    "data = sheet.values\n",
    "columns = next(data)\n",
    "df_truth = pd.DataFrame(data, columns=columns)"
   ]
  },
  {
   "cell_type": "code",
   "execution_count": 4,
   "id": "882505e9-defe-46d1-9c85-777326d152a5",
   "metadata": {},
   "outputs": [],
   "source": [
    "import openai\n",
    "from openai import OpenAI\n",
    "client = OpenAI()"
   ]
  },
  {
   "cell_type": "code",
   "execution_count": 5,
   "id": "c63ffd2d-aa5f-4221-98c2-7316cdc8d859",
   "metadata": {},
   "outputs": [
    {
     "name": "stdout",
     "output_type": "stream",
     "text": [
      "['rynn2008.pdf', 'lennox2003.pdf', 'kasper2014.pdf', 'hartford2007.pdf', 'boyer2004.pdf', 'merideth2012.pdf', 'mahablesh2013.pdf', 'davidson2004.pdf', 'pollock2001.pdf', 'nicolini2009.pdf', 'allgulander2004.pdf', 'pollock2008a.pdf', 'wu2011.pdf', 'bose2008.pdf', 'rickels2003.pdf', 'rothschild2012.pdf', 'stein2008.pdf', 'khan2011.pdf', 'alaka2014.pdf', 'ball2015.pdf', 'nimatoudis2004.pdf']\n"
     ]
    }
   ],
   "source": [
    "def get_file_names(directory):\n",
    "    \"\"\"Gets a list of file names in the specified directory.\n",
    "\n",
    "    Args:\n",
    "        directory (str): The path to the directory.\n",
    "\n",
    "    Returns:\n",
    "        list: A list of file names.\n",
    "    \"\"\"\n",
    "\n",
    "    file_names = []\n",
    "    for entry in os.scandir(directory):\n",
    "        if entry.is_file():\n",
    "            file_names.append(entry.name)\n",
    "    return file_names\n",
    "\n",
    "directory_path = \"../Desktop/Testing\"\n",
    "file_names = get_file_names(directory_path)\n",
    "print(file_names)"
   ]
  },
  {
   "cell_type": "markdown",
   "id": "f89a13d9-fae1-47e4-9843-6b127ec27a4d",
   "metadata": {},
   "source": [
    "# Pollock2008a was omitted due to heavy data discrepencies \n",
    "# Don't know if I'll include Khan...it's all NA's. also khan suggests to omit washout periods...Khan is all NA's as it uses link to supplemental figures"
   ]
  },
  {
   "cell_type": "code",
   "execution_count": null,
   "id": "83219799-8ae8-4088-b9ad-831dce6a56d3",
   "metadata": {},
   "outputs": [],
   "source": [
    "# Function to extract text and tables\n",
    "def extract_pdf_text(file_path):\n",
    "    text = \"\"\n",
    "    with pdfplumber.open(file_path) as pdf:\n",
    "        for page in pdf.pages:\n",
    "            # Extract text\n",
    "            text += page.extract_text() + \"\\n\"\n",
    "    return text\n",
    "\n",
    "\n",
    "def query_gpt4_text(text):\n",
    "    structured_prompt = (\n",
    "        f\"Clinical Trial Report Analysis:\\n\\n\"\n",
    "        f\"Extracted Text:\\n{text}\\n\\n\"\n",
    "        f\"This is a clinical trial report. For EACH intervention in the trial (including placebo), please extract the following characteristics and format the response as valid JSON using this exact example structure:\\n\\n\"\n",
    "        f\"Example format:\\n\"\n",
    "        f\"{{\\n\"\n",
    "        f'    \"Last Name of Main Author and Year\": \"Doe et al., 2021\",\\n'\n",
    "        f'    \"Full Population Sample Size\": \"451\",\\n'\n",
    "        f'    \"Intervention\": \"Duloxetine: 50 mg/day\",\\n'\n",
    "        f'    \"Main Race\": \"White\",\\n'\n",
    "        f'    \"Percent of Intervention Population that is Female (%)\": \"61.5\",\\n'\n",
    "        f'    \"Mean HAMA Score\": \"24.5\",\\n'\n",
    "        f'    \"Mean Population Age (Year)\": \"43.2\",\\n'\n",
    "        f'    \"Attrition Rate (%)\": \"30.2\",\\n'\n",
    "        f'    \"Full Sponsor Name\": \"ABC Pharmaceuticals\",\\n'\n",
    "        f'    \"Follow-up Time (Weeks)\": \"10\",\\n'\n",
    "        f'    \"Diagnostic Criteria\": \"DSM-IV\"\\n'\n",
    "        f\"}}\\n\\n\"\n",
    "        f\"'Full Population Sample Size' should refer to the TOTAL population enrolled in the study, across all interventions and groups, not just the population size for the specific intervention.\\n\"\n",
    "        f\"'Intervention' should be in mg/day, not any other unit of measurement.\\n\"\n",
    "        f\"'Intervention' should be the total range of the dose or whateverrreerer.\\n\"\n",
    "        f\"'Intervention' should remove any specific formatation names.\\n\"\n",
    "        f\"'follow up time should refer to total length of the study.\\n\"\n",
    "        f\"'sample size' should be the total amount that were randomly assigned to an intervention\\n\"\n",
    "        f\"'Mean HAMA' should be the mean hama at the beginning of the study\\n\"\n",
    "        f\"'attrition rate should be number of patients who completed the treatment period after assignment\\n\"\n",
    "        f\"Make sure each JSON object follows this format exactly. For any missing or unavailable data, input 'NA'.\"\n",
    "    )\n",
    "    response = completion = client.chat.completions.create(\n",
    "        model=\"gpt-4o\",\n",
    "        messages=[{\"role\": \"system\", \"content\": \"You are a data extraction assistant extracting data from clinical trial reports.\"},\n",
    "                  {\"role\": \"user\", \"content\": structured_prompt}],\n",
    "    )\n",
    "    return response"
   ]
  }
 ],
 "metadata": {
  "kernelspec": {
   "display_name": "Python 3 (ipykernel)",
   "language": "python",
   "name": "python3"
  },
  "language_info": {
   "codemirror_mode": {
    "name": "ipython",
    "version": 3
   },
   "file_extension": ".py",
   "mimetype": "text/x-python",
   "name": "python",
   "nbconvert_exporter": "python",
   "pygments_lexer": "ipython3",
   "version": "3.12.5"
  }
 },
 "nbformat": 4,
 "nbformat_minor": 5
}
